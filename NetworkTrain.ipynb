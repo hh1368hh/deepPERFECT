{
 "cells": [
  {
   "cell_type": "code",
   "execution_count": null,
   "metadata": {},
   "outputs": [],
   "source": [
    "from utl.Training import UnetTrainingApp\n",
    "from torchvision import transforms\n",
    "from utl.dset import RandomCrop3D, CenterCrop3D, Permute, Gains, RandomZoom, ToTensor\n",
    "import os\n"
   ]
  },
  {
   "cell_type": "code",
   "execution_count": null,
   "metadata": {},
   "outputs": [],
   "source": [
    "TrainingApp=UnetTrainingApp(valid_split = 0.1, batch_size = 3, n_jobs = 0, n_epochs = 30, caching=False, train_dir='Data')\n"
   ]
  },
  {
   "cell_type": "code",
   "execution_count": null,
   "metadata": {},
   "outputs": [],
   "source": [
    "# Visualize Loaded Data\n",
    "TrainingApp.dataVisualize(tfms=None, idx=0)"
   ]
  },
  {
   "cell_type": "code",
   "execution_count": null,
   "metadata": {},
   "outputs": [],
   "source": [
    "# NNFileName=('ResultCNN_3/test_G1.pth', 'ResultCNN_3/test_D1.pth')\n",
    "\n",
    "# # tfms = transforms.Compose([RandomCrop3D((128,128,128),4) ,ToTensor()])\n",
    "\n",
    "# TrainingApp.main(tfms,NNFileName)\n",
    "\n",
    "# tfms = transforms.Compose([RandomCrop3D((220,220,220),4) ,ToTensor()])\n",
    "tfms=None\n",
    "\n",
    "NNFileName=('Dict_G.pth', 'Dict_D.pth')\n",
    "\n",
    "# tfms = transforms.Compose([RandomCrop3D((128,128,128),4) ,ToTensor()])\n",
    "\n",
    "TrainingApp.main(tfms,NNFileName)\n"
   ]
  }
 ],
 "metadata": {
  "interpreter": {
   "hash": "97f3e9ebcf57e920bbf450b1b240a716de5542bad40a653a9cdaa91f7bc91b70"
  },
  "kernelspec": {
   "display_name": "Python 3.8.10 64-bit ('CNN': conda)",
   "name": "python3"
  },
  "language_info": {
   "codemirror_mode": {
    "name": "ipython",
    "version": 3
   },
   "file_extension": ".py",
   "mimetype": "text/x-python",
   "name": "python",
   "nbconvert_exporter": "python",
   "pygments_lexer": "ipython3",
   "version": "3.8.10"
  },
  "orig_nbformat": 4
 },
 "nbformat": 4,
 "nbformat_minor": 2
}
